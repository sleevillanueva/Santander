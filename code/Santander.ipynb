{
 "cells": [
  {
   "cell_type": "markdown",
   "metadata": {},
   "source": [
    "As mentioned, we will look at two models for this project. We would like to see how a parametric and non parametric test will do in this dataset"
   ]
  },
  {
   "cell_type": "code",
   "execution_count": 1,
   "metadata": {
    "collapsed": true
   },
   "outputs": [],
   "source": [
    "#import pandas and numpy\n",
    "#import seaborn and matplotlib for visualizations\n",
    "import pandas as pd\n",
    "import numpy as np\n",
    "import seaborn as sns\n",
    "import matplotlib.pyplot as plt\n",
    "%matplotlib inline"
   ]
  },
  {
   "cell_type": "code",
   "execution_count": 2,
   "metadata": {
    "collapsed": false
   },
   "outputs": [],
   "source": [
    "#load data into a pandas dataframe\n",
    "cs = pd.read_csv(\"../assets/train.csv\")\n",
    "cs_test = pd.read_csv(\"../assets/test.csv\")"
   ]
  },
  {
   "cell_type": "code",
   "execution_count": 3,
   "metadata": {
    "collapsed": false
   },
   "outputs": [
    {
     "data": {
      "text/html": [
       "<div>\n",
       "<table border=\"1\" class=\"dataframe\">\n",
       "  <thead>\n",
       "    <tr style=\"text-align: right;\">\n",
       "      <th></th>\n",
       "      <th>ID</th>\n",
       "      <th>var3</th>\n",
       "      <th>var15</th>\n",
       "      <th>imp_ent_var16_ult1</th>\n",
       "      <th>imp_op_var39_comer_ult1</th>\n",
       "      <th>imp_op_var39_comer_ult3</th>\n",
       "      <th>imp_op_var40_comer_ult1</th>\n",
       "      <th>imp_op_var40_comer_ult3</th>\n",
       "      <th>imp_op_var40_efect_ult1</th>\n",
       "      <th>imp_op_var40_efect_ult3</th>\n",
       "      <th>...</th>\n",
       "      <th>saldo_medio_var33_hace2</th>\n",
       "      <th>saldo_medio_var33_hace3</th>\n",
       "      <th>saldo_medio_var33_ult1</th>\n",
       "      <th>saldo_medio_var33_ult3</th>\n",
       "      <th>saldo_medio_var44_hace2</th>\n",
       "      <th>saldo_medio_var44_hace3</th>\n",
       "      <th>saldo_medio_var44_ult1</th>\n",
       "      <th>saldo_medio_var44_ult3</th>\n",
       "      <th>var38</th>\n",
       "      <th>TARGET</th>\n",
       "    </tr>\n",
       "  </thead>\n",
       "  <tbody>\n",
       "    <tr>\n",
       "      <th>0</th>\n",
       "      <td>1</td>\n",
       "      <td>2</td>\n",
       "      <td>23</td>\n",
       "      <td>0.0</td>\n",
       "      <td>0.0</td>\n",
       "      <td>0.0</td>\n",
       "      <td>0.0</td>\n",
       "      <td>0.0</td>\n",
       "      <td>0.0</td>\n",
       "      <td>0.0</td>\n",
       "      <td>...</td>\n",
       "      <td>0.0</td>\n",
       "      <td>0.0</td>\n",
       "      <td>0.0</td>\n",
       "      <td>0.0</td>\n",
       "      <td>0.0</td>\n",
       "      <td>0.0</td>\n",
       "      <td>0.0</td>\n",
       "      <td>0.0</td>\n",
       "      <td>39205.170000</td>\n",
       "      <td>0</td>\n",
       "    </tr>\n",
       "    <tr>\n",
       "      <th>1</th>\n",
       "      <td>3</td>\n",
       "      <td>2</td>\n",
       "      <td>34</td>\n",
       "      <td>0.0</td>\n",
       "      <td>0.0</td>\n",
       "      <td>0.0</td>\n",
       "      <td>0.0</td>\n",
       "      <td>0.0</td>\n",
       "      <td>0.0</td>\n",
       "      <td>0.0</td>\n",
       "      <td>...</td>\n",
       "      <td>0.0</td>\n",
       "      <td>0.0</td>\n",
       "      <td>0.0</td>\n",
       "      <td>0.0</td>\n",
       "      <td>0.0</td>\n",
       "      <td>0.0</td>\n",
       "      <td>0.0</td>\n",
       "      <td>0.0</td>\n",
       "      <td>49278.030000</td>\n",
       "      <td>0</td>\n",
       "    </tr>\n",
       "    <tr>\n",
       "      <th>2</th>\n",
       "      <td>4</td>\n",
       "      <td>2</td>\n",
       "      <td>23</td>\n",
       "      <td>0.0</td>\n",
       "      <td>0.0</td>\n",
       "      <td>0.0</td>\n",
       "      <td>0.0</td>\n",
       "      <td>0.0</td>\n",
       "      <td>0.0</td>\n",
       "      <td>0.0</td>\n",
       "      <td>...</td>\n",
       "      <td>0.0</td>\n",
       "      <td>0.0</td>\n",
       "      <td>0.0</td>\n",
       "      <td>0.0</td>\n",
       "      <td>0.0</td>\n",
       "      <td>0.0</td>\n",
       "      <td>0.0</td>\n",
       "      <td>0.0</td>\n",
       "      <td>67333.770000</td>\n",
       "      <td>0</td>\n",
       "    </tr>\n",
       "    <tr>\n",
       "      <th>3</th>\n",
       "      <td>8</td>\n",
       "      <td>2</td>\n",
       "      <td>37</td>\n",
       "      <td>0.0</td>\n",
       "      <td>195.0</td>\n",
       "      <td>195.0</td>\n",
       "      <td>0.0</td>\n",
       "      <td>0.0</td>\n",
       "      <td>0.0</td>\n",
       "      <td>0.0</td>\n",
       "      <td>...</td>\n",
       "      <td>0.0</td>\n",
       "      <td>0.0</td>\n",
       "      <td>0.0</td>\n",
       "      <td>0.0</td>\n",
       "      <td>0.0</td>\n",
       "      <td>0.0</td>\n",
       "      <td>0.0</td>\n",
       "      <td>0.0</td>\n",
       "      <td>64007.970000</td>\n",
       "      <td>0</td>\n",
       "    </tr>\n",
       "    <tr>\n",
       "      <th>4</th>\n",
       "      <td>10</td>\n",
       "      <td>2</td>\n",
       "      <td>39</td>\n",
       "      <td>0.0</td>\n",
       "      <td>0.0</td>\n",
       "      <td>0.0</td>\n",
       "      <td>0.0</td>\n",
       "      <td>0.0</td>\n",
       "      <td>0.0</td>\n",
       "      <td>0.0</td>\n",
       "      <td>...</td>\n",
       "      <td>0.0</td>\n",
       "      <td>0.0</td>\n",
       "      <td>0.0</td>\n",
       "      <td>0.0</td>\n",
       "      <td>0.0</td>\n",
       "      <td>0.0</td>\n",
       "      <td>0.0</td>\n",
       "      <td>0.0</td>\n",
       "      <td>117310.979016</td>\n",
       "      <td>0</td>\n",
       "    </tr>\n",
       "  </tbody>\n",
       "</table>\n",
       "<p>5 rows × 371 columns</p>\n",
       "</div>"
      ],
      "text/plain": [
       "   ID  var3  var15  imp_ent_var16_ult1  imp_op_var39_comer_ult1  \\\n",
       "0   1     2     23                 0.0                      0.0   \n",
       "1   3     2     34                 0.0                      0.0   \n",
       "2   4     2     23                 0.0                      0.0   \n",
       "3   8     2     37                 0.0                    195.0   \n",
       "4  10     2     39                 0.0                      0.0   \n",
       "\n",
       "   imp_op_var39_comer_ult3  imp_op_var40_comer_ult1  imp_op_var40_comer_ult3  \\\n",
       "0                      0.0                      0.0                      0.0   \n",
       "1                      0.0                      0.0                      0.0   \n",
       "2                      0.0                      0.0                      0.0   \n",
       "3                    195.0                      0.0                      0.0   \n",
       "4                      0.0                      0.0                      0.0   \n",
       "\n",
       "   imp_op_var40_efect_ult1  imp_op_var40_efect_ult3   ...    \\\n",
       "0                      0.0                      0.0   ...     \n",
       "1                      0.0                      0.0   ...     \n",
       "2                      0.0                      0.0   ...     \n",
       "3                      0.0                      0.0   ...     \n",
       "4                      0.0                      0.0   ...     \n",
       "\n",
       "   saldo_medio_var33_hace2  saldo_medio_var33_hace3  saldo_medio_var33_ult1  \\\n",
       "0                      0.0                      0.0                     0.0   \n",
       "1                      0.0                      0.0                     0.0   \n",
       "2                      0.0                      0.0                     0.0   \n",
       "3                      0.0                      0.0                     0.0   \n",
       "4                      0.0                      0.0                     0.0   \n",
       "\n",
       "   saldo_medio_var33_ult3  saldo_medio_var44_hace2  saldo_medio_var44_hace3  \\\n",
       "0                     0.0                      0.0                      0.0   \n",
       "1                     0.0                      0.0                      0.0   \n",
       "2                     0.0                      0.0                      0.0   \n",
       "3                     0.0                      0.0                      0.0   \n",
       "4                     0.0                      0.0                      0.0   \n",
       "\n",
       "   saldo_medio_var44_ult1  saldo_medio_var44_ult3          var38  TARGET  \n",
       "0                     0.0                     0.0   39205.170000       0  \n",
       "1                     0.0                     0.0   49278.030000       0  \n",
       "2                     0.0                     0.0   67333.770000       0  \n",
       "3                     0.0                     0.0   64007.970000       0  \n",
       "4                     0.0                     0.0  117310.979016       0  \n",
       "\n",
       "[5 rows x 371 columns]"
      ]
     },
     "execution_count": 3,
     "metadata": {},
     "output_type": "execute_result"
    }
   ],
   "source": [
    "#check our data\n",
    "cs.head()"
   ]
  },
  {
   "cell_type": "code",
   "execution_count": 4,
   "metadata": {
    "collapsed": false
   },
   "outputs": [
    {
     "data": {
      "text/plain": [
       "ID                               0\n",
       "var3                             0\n",
       "var15                            0\n",
       "imp_ent_var16_ult1               0\n",
       "imp_op_var39_comer_ult1          0\n",
       "imp_op_var39_comer_ult3          0\n",
       "imp_op_var40_comer_ult1          0\n",
       "imp_op_var40_comer_ult3          0\n",
       "imp_op_var40_efect_ult1          0\n",
       "imp_op_var40_efect_ult3          0\n",
       "imp_op_var40_ult1                0\n",
       "imp_op_var41_comer_ult1          0\n",
       "imp_op_var41_comer_ult3          0\n",
       "imp_op_var41_efect_ult1          0\n",
       "imp_op_var41_efect_ult3          0\n",
       "imp_op_var41_ult1                0\n",
       "imp_op_var39_efect_ult1          0\n",
       "imp_op_var39_efect_ult3          0\n",
       "imp_op_var39_ult1                0\n",
       "imp_sal_var16_ult1               0\n",
       "ind_var1_0                       0\n",
       "ind_var1                         0\n",
       "ind_var2_0                       0\n",
       "ind_var2                         0\n",
       "ind_var5_0                       0\n",
       "ind_var5                         0\n",
       "ind_var6_0                       0\n",
       "ind_var6                         0\n",
       "ind_var8_0                       0\n",
       "ind_var8                         0\n",
       "                                ..\n",
       "saldo_medio_var13_corto_hace2    0\n",
       "saldo_medio_var13_corto_hace3    0\n",
       "saldo_medio_var13_corto_ult1     0\n",
       "saldo_medio_var13_corto_ult3     0\n",
       "saldo_medio_var13_largo_hace2    0\n",
       "saldo_medio_var13_largo_hace3    0\n",
       "saldo_medio_var13_largo_ult1     0\n",
       "saldo_medio_var13_largo_ult3     0\n",
       "saldo_medio_var13_medio_hace2    0\n",
       "saldo_medio_var13_medio_hace3    0\n",
       "saldo_medio_var13_medio_ult1     0\n",
       "saldo_medio_var13_medio_ult3     0\n",
       "saldo_medio_var17_hace2          0\n",
       "saldo_medio_var17_hace3          0\n",
       "saldo_medio_var17_ult1           0\n",
       "saldo_medio_var17_ult3           0\n",
       "saldo_medio_var29_hace2          0\n",
       "saldo_medio_var29_hace3          0\n",
       "saldo_medio_var29_ult1           0\n",
       "saldo_medio_var29_ult3           0\n",
       "saldo_medio_var33_hace2          0\n",
       "saldo_medio_var33_hace3          0\n",
       "saldo_medio_var33_ult1           0\n",
       "saldo_medio_var33_ult3           0\n",
       "saldo_medio_var44_hace2          0\n",
       "saldo_medio_var44_hace3          0\n",
       "saldo_medio_var44_ult1           0\n",
       "saldo_medio_var44_ult3           0\n",
       "var38                            0\n",
       "TARGET                           0\n",
       "dtype: int64"
      ]
     },
     "execution_count": 4,
     "metadata": {},
     "output_type": "execute_result"
    }
   ],
   "source": [
    "#Check which columns have null values\n",
    "cs.isnull().sum()"
   ]
  },
  {
   "cell_type": "code",
   "execution_count": 5,
   "metadata": {
    "collapsed": false
   },
   "outputs": [
    {
     "data": {
      "text/plain": [
       "ID                                 int64\n",
       "var3                               int64\n",
       "var15                              int64\n",
       "imp_ent_var16_ult1               float64\n",
       "imp_op_var39_comer_ult1          float64\n",
       "imp_op_var39_comer_ult3          float64\n",
       "imp_op_var40_comer_ult1          float64\n",
       "imp_op_var40_comer_ult3          float64\n",
       "imp_op_var40_efect_ult1          float64\n",
       "imp_op_var40_efect_ult3          float64\n",
       "imp_op_var40_ult1                float64\n",
       "imp_op_var41_comer_ult1          float64\n",
       "imp_op_var41_comer_ult3          float64\n",
       "imp_op_var41_efect_ult1          float64\n",
       "imp_op_var41_efect_ult3          float64\n",
       "imp_op_var41_ult1                float64\n",
       "imp_op_var39_efect_ult1          float64\n",
       "imp_op_var39_efect_ult3          float64\n",
       "imp_op_var39_ult1                float64\n",
       "imp_sal_var16_ult1               float64\n",
       "ind_var1_0                         int64\n",
       "ind_var1                           int64\n",
       "ind_var2_0                         int64\n",
       "ind_var2                           int64\n",
       "ind_var5_0                         int64\n",
       "ind_var5                           int64\n",
       "ind_var6_0                         int64\n",
       "ind_var6                           int64\n",
       "ind_var8_0                         int64\n",
       "ind_var8                           int64\n",
       "                                  ...   \n",
       "saldo_medio_var13_corto_hace2    float64\n",
       "saldo_medio_var13_corto_hace3    float64\n",
       "saldo_medio_var13_corto_ult1     float64\n",
       "saldo_medio_var13_corto_ult3     float64\n",
       "saldo_medio_var13_largo_hace2    float64\n",
       "saldo_medio_var13_largo_hace3    float64\n",
       "saldo_medio_var13_largo_ult1     float64\n",
       "saldo_medio_var13_largo_ult3     float64\n",
       "saldo_medio_var13_medio_hace2    float64\n",
       "saldo_medio_var13_medio_hace3      int64\n",
       "saldo_medio_var13_medio_ult1       int64\n",
       "saldo_medio_var13_medio_ult3     float64\n",
       "saldo_medio_var17_hace2          float64\n",
       "saldo_medio_var17_hace3          float64\n",
       "saldo_medio_var17_ult1           float64\n",
       "saldo_medio_var17_ult3           float64\n",
       "saldo_medio_var29_hace2          float64\n",
       "saldo_medio_var29_hace3          float64\n",
       "saldo_medio_var29_ult1           float64\n",
       "saldo_medio_var29_ult3           float64\n",
       "saldo_medio_var33_hace2          float64\n",
       "saldo_medio_var33_hace3          float64\n",
       "saldo_medio_var33_ult1           float64\n",
       "saldo_medio_var33_ult3           float64\n",
       "saldo_medio_var44_hace2          float64\n",
       "saldo_medio_var44_hace3          float64\n",
       "saldo_medio_var44_ult1           float64\n",
       "saldo_medio_var44_ult3           float64\n",
       "var38                            float64\n",
       "TARGET                             int64\n",
       "dtype: object"
      ]
     },
     "execution_count": 5,
     "metadata": {},
     "output_type": "execute_result"
    }
   ],
   "source": [
    "#our data has no null values\n",
    "#let's take a look at the datatypes\n",
    "cs.dtypes"
   ]
  },
  {
   "cell_type": "code",
   "execution_count": 6,
   "metadata": {
    "collapsed": false
   },
   "outputs": [
    {
     "name": "stdout",
     "output_type": "stream",
     "text": [
      "(76020, 371)\n"
     ]
    }
   ],
   "source": [
    "#let's see how many features we are dealing with\n",
    "print cs.shape"
   ]
  },
  {
   "cell_type": "markdown",
   "metadata": {},
   "source": [
    "The data has numeric types, which is what we want for our modeling\n",
    "\n",
    "We can see that we have 371 features to work with. If we had less features, it would have been good to look at the distribution of our features because this would tell us which model would perform better. But because plotting will make our kernel die (trust me I tried), this case study will tell us if a parametric or non parametric model would do better in this project. \n",
    "\n",
    "Because this is a Kaggle competition, we can actually see what scoring system they have, and this should tell us more or less what would work better. Assumptions aside, let's proceed!\n",
    "\n",
    "When we looked at our dataset using head at the very start, you might have noticed that var3 had twos, var15 had 20s, the imp features had 0.0 and 195.0 and var38 had xx000s. Let's take a look at their values to have a better grasp of what these columns look like"
   ]
  },
  {
   "cell_type": "code",
   "execution_count": 7,
   "metadata": {
    "collapsed": false
   },
   "outputs": [
    {
     "data": {
      "text/plain": [
       "count     76020.000000\n",
       "mean      -1523.199277\n",
       "std       39033.462364\n",
       "min     -999999.000000\n",
       "25%           2.000000\n",
       "50%           2.000000\n",
       "75%           2.000000\n",
       "max         238.000000\n",
       "Name: var3, dtype: float64"
      ]
     },
     "execution_count": 7,
     "metadata": {},
     "output_type": "execute_result"
    }
   ],
   "source": [
    "#Let's try another function of pandas DataFrame/Series that can give us a description of the columns.\n",
    "cs[\"var3\"].describe()"
   ]
  },
  {
   "cell_type": "code",
   "execution_count": 8,
   "metadata": {
    "collapsed": false
   },
   "outputs": [
    {
     "data": {
      "text/plain": [
       "<matplotlib.axes._subplots.AxesSubplot at 0x1192a3810>"
      ]
     },
     "execution_count": 8,
     "metadata": {},
     "output_type": "execute_result"
    },
    {
     "data": {
      "image/png": "[encoded data removed]",
      "text/plain": [
       "<matplotlib.figure.Figure at 0x119055f50>"
      ]
     },
     "metadata": {},
     "output_type": "display_data"
    }
   ],
   "source": [
    "#We can also take a look at visually using seaborn's distplot\n",
    "sns.distplot(cs[\"var3\"])"
   ]
  },
  {
   "cell_type": "code",
   "execution_count": 9,
   "metadata": {
    "collapsed": false
   },
   "outputs": [
    {
     "data": {
      "text/plain": [
       "count    76020.000000\n",
       "mean        33.212865\n",
       "std         12.956486\n",
       "min          5.000000\n",
       "25%         23.000000\n",
       "50%         28.000000\n",
       "75%         40.000000\n",
       "max        105.000000\n",
       "Name: var15, dtype: float64"
      ]
     },
     "execution_count": 9,
     "metadata": {},
     "output_type": "execute_result"
    }
   ],
   "source": [
    "#It kind of looks like a bimodal distribution, but what we can see in our describe function,\n",
    "#the mean is at -1523 with an std of 39033. Let's take a look at the other features to compare.\n",
    "cs[\"var15\"].describe()"
   ]
  },
  {
   "cell_type": "code",
   "execution_count": 10,
   "metadata": {
    "collapsed": false
   },
   "outputs": [
    {
     "data": {
      "text/plain": [
       "<matplotlib.axes._subplots.AxesSubplot at 0x103e118d0>"
      ]
     },
     "execution_count": 10,
     "metadata": {},
     "output_type": "execute_result"
    },
    {
     "data": {
      "image/png": "[encoded data removed]",
      "text/plain": [
       "<matplotlib.figure.Figure at 0x103d8ca50>"
      ]
     },
     "metadata": {},
     "output_type": "display_data"
    }
   ],
   "source": [
    "sns.distplot(cs[\"var15\"])"
   ]
  },
  {
   "cell_type": "code",
   "execution_count": 11,
   "metadata": {
    "collapsed": false
   },
   "outputs": [
    {
     "data": {
      "text/plain": [
       "count     76020.000000\n",
       "mean         86.208265\n",
       "std        1614.757313\n",
       "min           0.000000\n",
       "25%           0.000000\n",
       "50%           0.000000\n",
       "75%           0.000000\n",
       "max      210000.000000\n",
       "Name: imp_ent_var16_ult1, dtype: float64"
      ]
     },
     "execution_count": 11,
     "metadata": {},
     "output_type": "execute_result"
    }
   ],
   "source": [
    "#For var15, we can see that the values are all positive and the distribution is skewed to the right\n",
    "#Let's take a look at one of the \"imp.*\" features\n",
    "cs[\"imp_ent_var16_ult1\"].describe()"
   ]
  },
  {
   "cell_type": "code",
   "execution_count": 12,
   "metadata": {
    "collapsed": false
   },
   "outputs": [
    {
     "data": {
      "text/plain": [
       "<matplotlib.axes._subplots.AxesSubplot at 0x11b182190>"
      ]
     },
     "execution_count": 12,
     "metadata": {},
     "output_type": "execute_result"
    },
    {
     "data": {
      "image/png": "[encoded data removed]",
      "text/plain": [
       "<matplotlib.figure.Figure at 0x11b18c690>"
      ]
     },
     "metadata": {},
     "output_type": "display_data"
    }
   ],
   "source": [
    "sns.distplot(cs[\"imp_ent_var16_ult1\"])"
   ]
  },
  {
   "cell_type": "code",
   "execution_count": 13,
   "metadata": {
    "collapsed": false
   },
   "outputs": [
    {
     "data": {
      "text/plain": [
       "count    7.602000e+04\n",
       "mean     1.172358e+05\n",
       "std      1.826646e+05\n",
       "min      5.163750e+03\n",
       "25%      6.787061e+04\n",
       "50%      1.064092e+05\n",
       "75%      1.187563e+05\n",
       "max      2.203474e+07\n",
       "Name: var38, dtype: float64"
      ]
     },
     "execution_count": 13,
     "metadata": {},
     "output_type": "execute_result"
    }
   ],
   "source": [
    "cs[\"var38\"].describe()"
   ]
  },
  {
   "cell_type": "code",
   "execution_count": 14,
   "metadata": {
    "collapsed": false
   },
   "outputs": [
    {
     "data": {
      "text/plain": [
       "<matplotlib.axes._subplots.AxesSubplot at 0x11b200bd0>"
      ]
     },
     "execution_count": 14,
     "metadata": {},
     "output_type": "execute_result"
    },
    {
     "data": {
      "image/png": "[encoded data removed]",
      "text/plain": [
       "<matplotlib.figure.Figure at 0x11b25d810>"
      ]
     },
     "metadata": {},
     "output_type": "display_data"
    }
   ],
   "source": [
    "sns.distplot(cs[\"var38\"])"
   ]
  },
  {
   "cell_type": "markdown",
   "metadata": {},
   "source": [
    "We've seen very different distributions and range for some of our features. \n",
    "\n",
    "At this point, knowing there are no missing values, knowing we have all numeric columns and understanding the distribution of our dataset, we can now start modeling. Yay! But... one thing that immediately comes to mind for me is, do I need to standardize our features? Standardization means that we would put them in the same scale. In logistic regression, having our features in different scales should not be an issue. However, when we want to use optimization techniques, having standardized features makes convergence faster.\n",
    "\n",
    "How about for KNN? Since KNN use euclidian distance, we would need to have th e features in the same scale. With those things in mind, we should standardize our features!\n"
   ]
  },
  {
   "cell_type": "code",
   "execution_count": 15,
   "metadata": {
    "collapsed": false
   },
   "outputs": [],
   "source": [
    "#sklearn has different preprocessing techniques. In our case, we should use StandardScaler()\n",
    "#Let's also import our logistic regression model and knn classifier\n",
    "#For optimization, let's import ridgecv and lassocv, as well as gridsearchcv\n",
    "from sklearn.preprocessing import StandardScaler\n",
    "from sklearn.linear_model import LogisticRegression, RidgeCV, LassoCV\n",
    "from sklearn.neighbors import KNeighborsClassifier\n",
    "from sklearn.grid_search import GridSearchCV"
   ]
  },
  {
   "cell_type": "code",
   "execution_count": 16,
   "metadata": {
    "collapsed": true
   },
   "outputs": [],
   "source": [
    "sample = pd.read_csv(\"../assets/sample_submission.csv\")"
   ]
  },
  {
   "cell_type": "code",
   "execution_count": 43,
   "metadata": {
    "collapsed": true
   },
   "outputs": [],
   "source": [
    "#let's start with the preprocessing. We want all our Xs (features) to be in the same scale, so we do a fit_transform\n",
    "#we only want to include dataframe that excludes the id and target - which we can do using iloc\n",
    "\n",
    "X = StandardScaler().fit_transform(cs.iloc[:,1:(cs.shape[1]-1)])\n",
    "y = cs[\"TARGET\"]"
   ]
  },
  {
   "cell_type": "markdown",
   "metadata": {},
   "source": [
    "We can definitely train our model using our whole train data because we have a test set that was provided. However, I'm going to do a train test split because it's normal practice that we have the whole dataset and we split this into a train set and a test set. This is sort of a different scenario because it's a competition so they set aside part of the data where only the competition admin would have the right answers"
   ]
  },
  {
   "cell_type": "code",
   "execution_count": 44,
   "metadata": {
    "collapsed": true
   },
   "outputs": [],
   "source": [
    "#import train test split\n",
    "from sklearn.cross_validation import train_test_split"
   ]
  },
  {
   "cell_type": "code",
   "execution_count": 45,
   "metadata": {
    "collapsed": true
   },
   "outputs": [],
   "source": [
    "#im defining a function to do the model predictions and saving them to csv\n",
    "def exportToCSV(model,modelname):\n",
    "    global X_train, y_train, sample, X_test\n",
    "    predictions = model.predict_proba(X_test)[:,1]\n",
    "    sample['TARGET'] = predictions\n",
    "    sample.to_csv('../results/%s.csv'%modelname, index=False)"
   ]
  },
  {
   "cell_type": "code",
   "execution_count": 46,
   "metadata": {
    "collapsed": true
   },
   "outputs": [],
   "source": [
    "#train and test split with test size 30% of our data\n",
    "X_train, X_test, y_train, y_test = train_test_split(X,y,test_size=0.3, random_state=42)"
   ]
  },
  {
   "cell_type": "code",
   "execution_count": 21,
   "metadata": {
    "collapsed": false
   },
   "outputs": [
    {
     "data": {
      "text/plain": [
       "KNeighborsClassifier(algorithm='auto', leaf_size=30, metric='minkowski',\n",
       "           metric_params=None, n_jobs=1, n_neighbors=5, p=2,\n",
       "           weights='uniform')"
      ]
     },
     "execution_count": 21,
     "metadata": {},
     "output_type": "execute_result"
    }
   ],
   "source": [
    "#When instantiating a KNeighbors classifier, default is k=5\n",
    "#The model is built upon the score accuracy which is not the scoring process in Kaggle\n",
    "knn = KNeighborsClassifier()\n",
    "knn.fit(X_train,y_train)"
   ]
  },
  {
   "cell_type": "code",
   "execution_count": 47,
   "metadata": {
    "collapsed": false
   },
   "outputs": [],
   "source": [
    "#Don't be confused here. I'm not using the test sets from the train test split\n",
    "#Instead, I'm using the actual test set from Kaggle and doing the same thing we did with our X train (standardize)\n",
    "X_test = StandardScaler().fit_transform(cs_test.iloc[:,1:(cs.shape[1]-1)])"
   ]
  },
  {
   "cell_type": "code",
   "execution_count": 23,
   "metadata": {
    "collapsed": true
   },
   "outputs": [],
   "source": [
    "#Now we can predict the X test with the same model by calling our function\n",
    "exportToCSV(knn,\"knn\")"
   ]
  },
  {
   "cell_type": "markdown",
   "metadata": {},
   "source": [
    "The initial score that we got from KNN is .649, which is not too bad but it isn't great. What we might like to do next is to see if optimizing our classifier would help. I'm going to use GridSearch and try changing the number of neighbors, weights and penalty. I wanted to try the algorithm as well, but because the processing power of my laptop is not that great, it runs forever. I'll comment the algorithm out just so that we can see what kind of algorithms we can try.\n",
    "\n",
    "We also have to take note that the scoring system of this competition is AUC. Our classifier uses accuracy, so we would want to do our gridsearch based on the auc scoring. To learn more about AUC, here's a video by Joseph Nelson that explains this pretty well. https://www.youtube.com/watch?v=O--UtzxDUvM "
   ]
  },
  {
   "cell_type": "code",
   "execution_count": 24,
   "metadata": {
    "collapsed": true
   },
   "outputs": [],
   "source": [
    "#Let's now use GridSearch to do optimization on our knn model and use the scoring=roc_auc\n",
    "#the parameters that we may want to change in KNN are the number of neighbors, weights, algorithms and p\n",
    "search_parameters = {\n",
    "    'n_neighbors':  [3,10], \n",
    "    'weights':      (\"uniform\", \"distance\"),\n",
    "    #'algorithm':    (\"ball_tree\", \"kd_tree\", \"brute\", \"auto\"),\n",
    "    'p':            [1,2]\n",
    "}"
   ]
  },
  {
   "cell_type": "code",
   "execution_count": 25,
   "metadata": {
    "collapsed": true
   },
   "outputs": [],
   "source": [
    "#Instantiate our GridSearch with the KNN model that we just did, the parameters we want to test\n",
    "#Let's also put the scoring as roc_auc\n",
    "knn_grid = GridSearchCV(knn, search_parameters,scoring=\"roc_auc\",n_jobs=-1)"
   ]
  },
  {
   "cell_type": "code",
   "execution_count": 26,
   "metadata": {
    "collapsed": false
   },
   "outputs": [
    {
     "data": {
      "text/plain": [
       "GridSearchCV(cv=None, error_score='raise',\n",
       "       estimator=KNeighborsClassifier(algorithm='auto', leaf_size=30, metric='minkowski',\n",
       "           metric_params=None, n_jobs=1, n_neighbors=5, p=2,\n",
       "           weights='uniform'),\n",
       "       fit_params={}, iid=True, n_jobs=-1,\n",
       "       param_grid={'n_neighbors': [3, 10], 'weights': ('uniform', 'distance'), 'p': [1, 2]},\n",
       "       pre_dispatch='2*n_jobs', refit=True, scoring='roc_auc', verbose=0)"
      ]
     },
     "execution_count": 26,
     "metadata": {},
     "output_type": "execute_result"
    }
   ],
   "source": [
    "#We\n",
    "knn_grid.fit(X_train, y_train)"
   ]
  },
  {
   "cell_type": "code",
   "execution_count": 27,
   "metadata": {
    "collapsed": true
   },
   "outputs": [],
   "source": [
    "exportToCSV(knn_grid,\"knn_grid\")"
   ]
  },
  {
   "cell_type": "code",
   "execution_count": 23,
   "metadata": {
    "collapsed": false
   },
   "outputs": [
    {
     "data": {
      "text/plain": [
       "LogisticRegression(C=1.0, class_weight=None, dual=False, fit_intercept=True,\n",
       "          intercept_scaling=1, max_iter=100, multi_class='ovr', n_jobs=1,\n",
       "          penalty='l2', random_state=None, solver='liblinear', tol=0.0001,\n",
       "          verbose=0, warm_start=False)"
      ]
     },
     "execution_count": 23,
     "metadata": {},
     "output_type": "execute_result"
    }
   ],
   "source": [
    "lr = LogisticRegression()\n",
    "lr.fit(X_train, y_train)"
   ]
  },
  {
   "cell_type": "code",
   "execution_count": 34,
   "metadata": {
    "collapsed": false
   },
   "outputs": [],
   "source": [
    "exportToCSV(lr,\"lr\")"
   ]
  },
  {
   "cell_type": "code",
   "execution_count": 38,
   "metadata": {
    "collapsed": false
   },
   "outputs": [],
   "source": [
    "search_parameters = {\n",
    "    \"penalty\":             ['l1','l2'],   #Ridge or Lasso\n",
    "    \"C\":                   [0.0001, 0.001, 0.01, 0.1, .15, .25, .275, .33, 0.5, .66, 0.75, 1.0, 2.5, 5.0, 10.0, 100.0, 1000.0],  # Regularization paramter\n",
    "    \"fit_intercept\":       [False, True],\n",
    "    \"class_weight\":        [None, \"balanced\"],\n",
    "    \"intercept_scaling\":   [2, 1], \n",
    "    \"warm_start\":          [False, True]\n",
    "}\n",
    "\n",
    "lr_grid = GridSearchCV(lr, search_parameters, verbose=True,scoring=\"roc_auc\",n_jobs=-1)"
   ]
  },
  {
   "cell_type": "code",
   "execution_count": null,
   "metadata": {
    "collapsed": false
   },
   "outputs": [
    {
     "name": "stdout",
     "output_type": "stream",
     "text": [
      "Fitting 3 folds for each of 544 candidates, totalling 1632 fits\n"
     ]
    },
    {
     "name": "stderr",
     "output_type": "stream",
     "text": [
      "[Parallel(n_jobs=-1)]: Done  34 tasks      | elapsed:   21.0s\n",
      "[Parallel(n_jobs=-1)]: Done 184 tasks      | elapsed:  2.3min\n",
      "[Parallel(n_jobs=-1)]: Done 434 tasks      | elapsed: 42.4min\n"
     ]
    }
   ],
   "source": [
    "lr_grid.fit(X_train, y_train)"
   ]
  },
  {
   "cell_type": "code",
   "execution_count": null,
   "metadata": {
    "collapsed": true
   },
   "outputs": [],
   "source": [
    "exportToCSV(lr_grid,\"lr_grid\")"
   ]
  },
  {
   "cell_type": "markdown",
   "metadata": {},
   "source": [
    "I wanted to look at two regularization techniques in this project as well. You may know about Lasso and Ridge when we instantiate a Logistic Regression model.\n",
    "\n",
    "In ridge regression, the penalty is calculated by the sum of the squares of the coefficients. This means that we can't zero coefficients so you would either end up including all or none of the coefficients.\n",
    "\n",
    "In lasso, because the penalty is the sum of the absolute values of the coefficients, it does both parameter shrinkage and variable selection automatically.\n",
    "\n",
    "We will be taking a look at both of these and see how they would do."
   ]
  },
  {
   "cell_type": "code",
   "execution_count": 48,
   "metadata": {
    "collapsed": false
   },
   "outputs": [
    {
     "data": {
      "text/plain": [
       "LassoCV(alphas=[0.1, 1, 0.001, 0.01, 10], copy_X=True, cv=None, eps=0.001,\n",
       "    fit_intercept=True, max_iter=1000, n_alphas=100, n_jobs=1,\n",
       "    normalize=False, positive=False, precompute='auto', random_state=None,\n",
       "    selection='cyclic', tol=0.0001, verbose=False)"
      ]
     },
     "execution_count": 48,
     "metadata": {},
     "output_type": "execute_result"
    }
   ],
   "source": [
    "#Let's use LassoRegCV and pull out some features based on the coefficients of the equation\n",
    "lassoregcv = LassoCV(alphas=[0.1, 1, .001, .01, 10])\n",
    "lassoregcv.fit(X_train, y_train)"
   ]
  },
  {
   "cell_type": "code",
   "execution_count": 35,
   "metadata": {
    "collapsed": false
   },
   "outputs": [],
   "source": [
    "#I'm appending the columns that do not have the 0.001 importance and adding it to the filtered list\n",
    "filtered = []\n",
    "for a,b in zip(lassoregcv.coef_, cs_test.iloc[:,1:(cs.shape[1]-1)].columns):\n",
    "    if abs(a) > 0.001:\n",
    "        filtered.append(b)"
   ]
  },
  {
   "cell_type": "code",
   "execution_count": 36,
   "metadata": {
    "collapsed": false
   },
   "outputs": [],
   "source": [
    "X_filtered = StandardScaler().fit_transform(cs[filtered])"
   ]
  },
  {
   "cell_type": "code",
   "execution_count": 37,
   "metadata": {
    "collapsed": true
   },
   "outputs": [],
   "source": [
    "X_train, X_test, y_train, y_test = train_test_split(X_filtered,y,test_size=0.3, random_state=42)"
   ]
  },
  {
   "cell_type": "code",
   "execution_count": 38,
   "metadata": {
    "collapsed": false
   },
   "outputs": [
    {
     "data": {
      "text/plain": [
       "LogisticRegression(C=1.0, class_weight=None, dual=False, fit_intercept=True,\n",
       "          intercept_scaling=1, max_iter=100, multi_class='ovr', n_jobs=1,\n",
       "          penalty='l2', random_state=None, solver='liblinear', tol=0.0001,\n",
       "          verbose=0, warm_start=False)"
      ]
     },
     "execution_count": 38,
     "metadata": {},
     "output_type": "execute_result"
    }
   ],
   "source": [
    "lr.fit(X_train,y_train)"
   ]
  },
  {
   "cell_type": "code",
   "execution_count": 42,
   "metadata": {
    "collapsed": false
   },
   "outputs": [],
   "source": [
    "X_test = StandardScaler().fit_transform(cs_test[filtered])\n",
    "predictions = lr.predict_proba(X_test)[:,1]\n",
    "sample['TARGET'] = predictions\n",
    "sample.to_csv('../results/lr_filtered.csv', index=False)"
   ]
  },
  {
   "cell_type": "markdown",
   "metadata": {},
   "source": [
    "Our model score went down by a really really small margin with the features that we selected to build our logistic regression."
   ]
  },
  {
   "cell_type": "code",
   "execution_count": null,
   "metadata": {
    "collapsed": true
   },
   "outputs": [],
   "source": []
  }
 ],
 "metadata": {
  "kernelspec": {
   "display_name": "Python 2",
   "language": "python",
   "name": "python2"
  },
  "language_info": {
   "codemirror_mode": {
    "name": "ipython",
    "version": 2
   },
   "file_extension": ".py",
   "mimetype": "text/x-python",
   "name": "python",
   "nbconvert_exporter": "python",
   "pygments_lexer": "ipython2",
   "version": "2.7.12"
  }
 },
 "nbformat": 4,
 "nbformat_minor": 0
}
